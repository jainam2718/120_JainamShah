{
  "nbformat": 4,
  "nbformat_minor": 0,
  "metadata": {
    "colab": {
      "name": "Lab_08_2_UnlabeledData_KMeans_Clustering.ipynb",
      "provenance": [],
      "collapsed_sections": [],
      "authorship_tag": "ABX9TyNTyeMG6ErGE8+FSWD/dfEe",
      "include_colab_link": true
    },
    "kernelspec": {
      "name": "python3",
      "display_name": "Python 3"
    },
    "language_info": {
      "name": "python"
    }
  },
  "cells": [
    {
      "cell_type": "markdown",
      "metadata": {
        "id": "view-in-github",
        "colab_type": "text"
      },
      "source": [
        "<a href=\"https://colab.research.google.com/github/jainam2718/120_JainamShah/blob/master/Lab8/Lab_08_2_UnlabeledData_KMeans_Clustering.ipynb\" target=\"_parent\"><img src=\"https://colab.research.google.com/assets/colab-badge.svg\" alt=\"Open In Colab\"/></a>"
      ]
    },
    {
      "cell_type": "markdown",
      "metadata": {
        "id": "NayDfCViwoMs"
      },
      "source": [
        "\n",
        "\n",
        "    Generate data and convert it to a pandas DataFrame\n",
        "\n"
      ]
    },
    {
      "cell_type": "code",
      "metadata": {
        "colab": {
          "base_uri": "https://localhost:8080/"
        },
        "id": "hpS3orm8wo2n",
        "outputId": "7f6c0a1e-9573-4b97-f4c6-15d24ae6580e"
      },
      "source": [
        "# Imports\n",
        "from sklearn.datasets.samples_generator import make_blobs\n",
        "\n",
        "X, _ = make_blobs(n_samples=100, centers=3, n_features=2, cluster_std=0.2, random_state=120)"
      ],
      "execution_count": 1,
      "outputs": [
        {
          "output_type": "stream",
          "name": "stderr",
          "text": [
            "/usr/local/lib/python3.7/dist-packages/sklearn/utils/deprecation.py:144: FutureWarning: The sklearn.datasets.samples_generator module is  deprecated in version 0.22 and will be removed in version 0.24. The corresponding classes / functions should instead be imported from sklearn.datasets. Anything that cannot be imported from sklearn.datasets is now part of the private API.\n",
            "  warnings.warn(message, FutureWarning)\n"
          ]
        }
      ]
    },
    {
      "cell_type": "markdown",
      "metadata": {
        "id": "aakYsHWqwzYs"
      },
      "source": [
        "Basic Data Visualization"
      ]
    },
    {
      "cell_type": "code",
      "metadata": {
        "colab": {
          "base_uri": "https://localhost:8080/",
          "height": 279
        },
        "id": "rUfS3obvw4sP",
        "outputId": "0d03e4b2-b871-486a-8fed-c2e59930c2e4"
      },
      "source": [
        "# Scatter plot of the data points\n",
        "import matplotlib.pyplot as plt\n",
        "%matplotlib inline\n",
        "\n",
        "plt.scatter(X[:, 0], X[:, -1])\n",
        "plt.xlabel('X Coordinates')\n",
        "plt.ylabel('Y Coordinates')\n",
        "plt.show()"
      ],
      "execution_count": 2,
      "outputs": [
        {
          "output_type": "display_data",
          "data": {
            "image/png": "[encoded data removed]",
            "text/plain": [
              "<Figure size 432x288 with 1 Axes>"
            ]
          },
          "metadata": {
            "needs_background": "light"
          }
        }
      ]
    },
    {
      "cell_type": "markdown",
      "metadata": {
        "id": "Un7EuMqRw7lJ"
      },
      "source": [
        "Using scikit-learn to perform K-Means clustering"
      ]
    },
    {
      "cell_type": "code",
      "metadata": {
        "id": "eI1NOW-dw-hY"
      },
      "source": [
        "# Using scikit-learn to perform K-Means clustering\n",
        "from sklearn.cluster import KMeans\n",
        "\n",
        "# Specify the number of clusters (3) and fit the data X\n",
        "kmeans = KMeans(n_clusters=3, random_state=7).fit(X)"
      ],
      "execution_count": 3,
      "outputs": []
    },
    {
      "cell_type": "markdown",
      "metadata": {
        "id": "tgeRYnR1xA9Y"
      },
      "source": [
        "Visualize and evaluate the results"
      ]
    },
    {
      "cell_type": "code",
      "metadata": {
        "colab": {
          "base_uri": "https://localhost:8080/"
        },
        "id": "3Ru1KasSxDX-",
        "outputId": "d4cdee7d-dea6-4f5d-9d1b-96163f37fc79"
      },
      "source": [
        "# Get the cluster centroids\n",
        "kmeans.cluster_centers_"
      ],
      "execution_count": 4,
      "outputs": [
        {
          "output_type": "execute_result",
          "data": {
            "text/plain": [
              "array([[ 3.58901783,  0.26741688],\n",
              "       [-0.7794053 ,  9.01636397],\n",
              "       [ 2.49288463, -0.44927774]])"
            ]
          },
          "metadata": {},
          "execution_count": 4
        }
      ]
    },
    {
      "cell_type": "code",
      "metadata": {
        "colab": {
          "base_uri": "https://localhost:8080/"
        },
        "id": "vVKitIZPxJYZ",
        "outputId": "3d61584a-46ec-4385-b740-0a537e122b2b"
      },
      "source": [
        "# Get the cluster labels\n",
        "kmeans.labels_"
      ],
      "execution_count": 5,
      "outputs": [
        {
          "output_type": "execute_result",
          "data": {
            "text/plain": [
              "array([0, 0, 0, 1, 2, 1, 0, 1, 1, 2, 2, 2, 1, 1, 1, 2, 0, 0, 2, 1, 0, 1,\n",
              "       1, 0, 1, 0, 2, 1, 1, 1, 1, 2, 0, 2, 0, 1, 2, 2, 0, 0, 1, 1, 1, 1,\n",
              "       1, 2, 1, 2, 0, 0, 0, 0, 2, 0, 2, 2, 2, 0, 1, 1, 1, 2, 0, 1, 2, 2,\n",
              "       0, 0, 0, 0, 2, 2, 0, 0, 2, 2, 0, 2, 1, 0, 0, 2, 2, 0, 1, 0, 1, 0,\n",
              "       2, 1, 2, 1, 0, 2, 2, 0, 2, 1, 1, 2], dtype=int32)"
            ]
          },
          "metadata": {},
          "execution_count": 5
        }
      ]
    },
    {
      "cell_type": "code",
      "metadata": {
        "colab": {
          "base_uri": "https://localhost:8080/",
          "height": 281
        },
        "id": "o4_suhCzxMDO",
        "outputId": "9a2a8529-8c6a-49fe-e9e2-aa49ad69f4d4"
      },
      "source": [
        "# Plotting the cluster centers and the data points on a 2D plane\n",
        "plt.scatter(X[:, 0], X[:, -1], c='orange', marker='*')\n",
        "plt.scatter(kmeans.cluster_centers_[:, 0], kmeans.cluster_centers_[:, 1], c='green', marker='+')\n",
        "plt.title('Data points and cluster centroids')\n",
        "plt.show()"
      ],
      "execution_count": 6,
      "outputs": [
        {
          "output_type": "display_data",
          "data": {
            "image/png": "[encoded data removed]",
            "text/plain": [
              "<Figure size 432x288 with 1 Axes>"
            ]
          },
          "metadata": {
            "needs_background": "light"
          }
        }
      ]
    },
    {
      "cell_type": "code",
      "metadata": {
        "colab": {
          "base_uri": "https://localhost:8080/"
        },
        "id": "iCreAyhjxOmA",
        "outputId": "3fff8f8e-e9a2-4dda-fa38-f05eb6e85ba8"
      },
      "source": [
        "# Calculate silhouette_score\n",
        "from sklearn.metrics import silhouette_score\n",
        "\n",
        "print(silhouette_score(X, kmeans.labels_))"
      ],
      "execution_count": 7,
      "outputs": [
        {
          "output_type": "stream",
          "name": "stdout",
          "text": [
            "0.8094230993366961\n"
          ]
        }
      ]
    },
    {
      "cell_type": "markdown",
      "metadata": {
        "id": "pe4kEr6cxWDV"
      },
      "source": [
        "Determining the value of K using silhouette_score"
      ]
    },
    {
      "cell_type": "code",
      "metadata": {
        "colab": {
          "base_uri": "https://localhost:8080/",
          "height": 433
        },
        "id": "53zs-t6QxWw5",
        "outputId": "c2b60dc0-6d6a-46bf-f50a-28bb7fc06666"
      },
      "source": [
        "# Import the KElbowVisualizer method\n",
        "from yellowbrick.cluster import KElbowVisualizer\n",
        "\n",
        "# Instantiate a scikit-learn K-Means model\n",
        "model = KMeans(random_state=12)\n",
        "\n",
        "# Instantiate the KElbowVisualizer with the number of clusters and the metric\n",
        "visualizer = KElbowVisualizer(model, k=(2,6), metric='silhouette',timings=False)\n",
        "\n",
        "# Fit the data and visualize\n",
        "visualizer.fit(X)\n",
        "visualizer.poof()"
      ],
      "execution_count": 8,
      "outputs": [
        {
          "output_type": "stream",
          "name": "stderr",
          "text": [
            "/usr/local/lib/python3.7/dist-packages/sklearn/utils/deprecation.py:144: FutureWarning: The sklearn.metrics.classification module is  deprecated in version 0.22 and will be removed in version 0.24. The corresponding classes / functions should instead be imported from sklearn.metrics. Anything that cannot be imported from sklearn.metrics is now part of the private API.\n",
            "  warnings.warn(message, FutureWarning)\n"
          ]
        },
        {
          "output_type": "display_data",
          "data": {
            "image/png": "[encoded data removed]",
            "text/plain": [
              "<Figure size 576x396 with 1 Axes>"
            ]
          },
          "metadata": {}
        }
      ]
    }
  ]
}