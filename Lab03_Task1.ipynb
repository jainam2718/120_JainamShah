{
  "nbformat": 4,
  "nbformat_minor": 0,
  "metadata": {
    "colab": {
      "name": "Lab03_Task1.ipynb",
      "provenance": [],
      "collapsed_sections": []
    },
    "kernelspec": {
      "name": "python3",
      "display_name": "Python 3"
    },
    "language_info": {
      "name": "python"
    }
  },
  "cells": [
    {
      "cell_type": "code",
      "metadata": {
        "colab": {
          "base_uri": "https://localhost:8080/"
        },
        "id": "ueljryP0RzSC",
        "outputId": "cf0a9283-afd3-4cb4-a211-aaece4eceba6"
      },
      "source": [
        "from google.colab import drive\n",
        "drive.mount(\"/content/drive\")\n",
        "# importing libraries\n",
        "import nltk\n",
        "import matplotlib.pyplot as plt\n",
        "import pandas as pd\n",
        "from sklearn import preprocessing\n",
        "from sklearn.naive_bayes import GaussianNB, MultinomialNB\n",
        "\n"
      ],
      "execution_count": 41,
      "outputs": [
        {
          "output_type": "stream",
          "name": "stdout",
          "text": [
            "Drive already mounted at /content/drive; to attempt to forcibly remount, call drive.mount(\"/content/drive\", force_remount=True).\n"
          ]
        }
      ]
    },
    {
      "cell_type": "markdown",
      "metadata": {
        "id": "TbiB7CGxYz3U"
      },
      "source": [
        "**CE120 Task1 on Dataset 3**"
      ]
    },
    {
      "cell_type": "code",
      "metadata": {
        "colab": {
          "base_uri": "https://localhost:8080/"
        },
        "id": "xzBJEi6cSykW",
        "outputId": "fd882a57-fb7c-4616-9c8e-b8063f00e28d"
      },
      "source": [
        "dataset = pd.read_csv('/content/drive/MyDrive/ML_Labs/L3/PracticeDataSets/Dataset3.csv')\n",
        "# labelEncoder Object\n",
        "label_encoder = preprocessing.LabelEncoder()\n",
        "Y_rows=None\n",
        "features = []\n",
        "#encode\n",
        "encoded_dataset = dataset\n",
        "for data_heading in dataset:\n",
        "  encoded_dataset = encoded_dataset.drop([data_heading],axis='columns')\n",
        "  encoded_dataset[data_heading] = label_encoder.fit_transform(dataset[data_heading])\n",
        "\n",
        "Y_rows = label_encoder.fit_transform(dataset['Class'])\n",
        "encoded_dataset.drop(['Class'],axis=1,inplace=True)\n",
        "print(dataset)\n",
        "print(\"\\nAfter Transformaing data\\n\")\n",
        "print(encoded_dataset)"
      ],
      "execution_count": 47,
      "outputs": [
        {
          "output_type": "stream",
          "name": "stdout",
          "text": [
            "   Outlook Temp Wind  Humidity  Class\n",
            "0        R    H    F         1      0\n",
            "1        R    H    T         2      0\n",
            "2        O    H    F         1      1\n",
            "3        R    M    F         1      1\n",
            "4        S    C    F         1      1\n",
            "5        O    C    T         0      0\n",
            "6        O    C    T         1      1\n",
            "7        R    M    F         1      0\n",
            "8        O    C    F         0      1\n",
            "9        S    M    F         2      1\n",
            "10       R    C    T         2      0\n",
            "11       O    M    T         0      1\n",
            "12       O    H    F         1      1\n",
            "13       S    M    T         1      0\n",
            "\n",
            "After Transformaing data\n",
            "\n",
            "    Outlook  Temp  Wind  Humidity\n",
            "0         1     1     0         1\n",
            "1         1     1     1         2\n",
            "2         0     1     0         1\n",
            "3         1     2     0         1\n",
            "4         2     0     0         1\n",
            "5         0     0     1         0\n",
            "6         0     0     1         1\n",
            "7         1     2     0         1\n",
            "8         0     0     0         0\n",
            "9         2     2     0         2\n",
            "10        1     0     1         2\n",
            "11        0     2     1         0\n",
            "12        0     1     0         1\n",
            "13        2     2     1         1\n"
          ]
        }
      ]
    },
    {
      "cell_type": "code",
      "metadata": {
        "colab": {
          "base_uri": "https://localhost:8080/"
        },
        "id": "jBTaUbeScXE0",
        "outputId": "bce9622f-a63a-46d3-b7c1-e5122cd8bb7e"
      },
      "source": [
        "# train test division 85% - 15%\n",
        "from sklearn.model_selection import train_test_split\n",
        "\n",
        "X_train, X_test, Y_train, Y_test = train_test_split(encoded_dataset, Y_rows, test_size = 0.15, random_state = 120)\n",
        "\n",
        "# create model\n",
        "model = MultinomialNB()\n",
        "model.fit(X_train, Y_train)\n",
        "\n",
        "# Predict Y from X_text\n",
        "Y_predicted = model.predict(X_test)\n",
        "\n",
        "print(Y_predicted)"
      ],
      "execution_count": 48,
      "outputs": [
        {
          "output_type": "stream",
          "name": "stdout",
          "text": [
            "[1 1 1]\n"
          ]
        }
      ]
    },
    {
      "cell_type": "code",
      "metadata": {
        "colab": {
          "base_uri": "https://localhost:8080/"
        },
        "id": "sO9JAZFccxMi",
        "outputId": "78652f59-c2de-4237-ecc7-ad7e4573d3a5"
      },
      "source": [
        "from sklearn.metrics import accuracy_score\n",
        "from sklearn.metrics import precision_score\n",
        "from sklearn.metrics import recall_score\n",
        "\n",
        "print(f\"Accuracy is :- {accuracy_score(Y_test, Y_predicted)}\")\n",
        "\n",
        "# print precision and recall\n",
        "precision = precision_score(Y_test, Y_predicted)\n",
        "recall = recall_score(Y_test, Y_predicted)\n",
        "\n",
        "\n",
        "print(f\"precision :- {precision}\")\n",
        "print(f\"recall :- {recall}\")"
      ],
      "execution_count": 49,
      "outputs": [
        {
          "output_type": "stream",
          "name": "stdout",
          "text": [
            "Accuracy is :- 0.3333333333333333\n",
            "precision :- 0.3333333333333333\n",
            "recall :- 1.0\n"
          ]
        }
      ]
    },
    {
      "cell_type": "code",
      "metadata": {
        "colab": {
          "base_uri": "https://localhost:8080/"
        },
        "id": "iyxzWZ__dTIa",
        "outputId": "52b3954f-e43d-4d89-ffb0-063be115c3e8"
      },
      "source": [
        "#Outlook is ’Rainy’, Temperature is ’Mild’, Humidity =’Normal’ = 2, and Wind = ’False’\n",
        "\n",
        "print('final prediction ',model.predict([[1,2,1,0]]))\n",
        "\n",
        "#Outlook is ’Sunny’, Temeprature is ’Cool’, Humidity =’High’, and Wind = ’True’\n",
        "\n",
        "print('final prediction ',model.predict([[2,0,2,1]]))\n"
      ],
      "execution_count": 52,
      "outputs": [
        {
          "output_type": "stream",
          "name": "stdout",
          "text": [
            "final prediction  [1]\n",
            "final prediction  [1]\n"
          ]
        }
      ]
    }
  ]
}