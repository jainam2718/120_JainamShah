{
  "nbformat": 4,
  "nbformat_minor": 0,
  "metadata": {
    "colab": {
      "name": "Lab03_Task1.ipynb",
      "provenance": [],
      "collapsed_sections": [],
      "include_colab_link": true
    },
    "kernelspec": {
      "name": "python3",
      "display_name": "Python 3"
    },
    "language_info": {
      "name": "python"
    }
  },
  "cells": [
    {
      "cell_type": "markdown",
      "metadata": {
        "id": "view-in-github",
        "colab_type": "text"
      },
      "source": [
        "<a href=\"https://colab.research.google.com/github/jainam2718/120_JainamShah/blob/master/Lab03_Task1.ipynb\" target=\"_parent\"><img src=\"https://colab.research.google.com/assets/colab-badge.svg\" alt=\"Open In Colab\"/></a>"
      ]
    },
    {
      "cell_type": "code",
      "metadata": {
        "colab": {
          "base_uri": "https://localhost:8080/"
        },
        "id": "ueljryP0RzSC",
        "outputId": "1f7eb967-aaec-405e-ade6-4ce1a43aa381"
      },
      "source": [
        "from google.colab import drive\n",
        "drive.mount(\"/content/drive\")\n",
        "# importing libraries\n",
        "import nltk\n",
        "import matplotlib.pyplot as plt\n",
        "import pandas as pd\n",
        "from sklearn import preprocessing\n",
        "from sklearn.naive_bayes import GaussianNB, MultinomialNB\n",
        "\n"
      ],
      "execution_count": 1,
      "outputs": [
        {
          "output_type": "stream",
          "name": "stdout",
          "text": [
            "Mounted at /content/drive\n"
          ]
        }
      ]
    },
    {
      "cell_type": "markdown",
      "metadata": {
        "id": "TbiB7CGxYz3U"
      },
      "source": [
        "**CE120 Task1 on Dataset 3**"
      ]
    },
    {
      "cell_type": "code",
      "metadata": {
        "colab": {
          "base_uri": "https://localhost:8080/"
        },
        "id": "xzBJEi6cSykW",
        "outputId": "4079e67f-903e-453c-d2ed-f184ab3d22a3"
      },
      "source": [
        "dataset = pd.read_csv('/content/drive/MyDrive/ML_Labs/L3/PracticeDataSets/Dataset3.csv')\n",
        "# labelEncoder Object\n",
        "label_encoder = preprocessing.LabelEncoder()\n",
        "Y_rows=None\n",
        "features = []\n",
        "#encode\n",
        "encoded_dataset = dataset\n",
        "Y_rows = label_encoder.fit_transform(dataset['Class'])\n",
        "encoded_dataset.drop(['Class'],axis=1,inplace=True)\n",
        "for data_heading in dataset:\n",
        "  dummies = pd.get_dummies(dataset[data_heading])\n",
        "  encoded_dataset = pd.concat([encoded_dataset,dummies],axis='columns')\n",
        "  encoded_dataset = encoded_dataset.drop([data_heading],axis='columns')\n",
        "\n",
        "\n",
        "print(dataset)\n",
        "print(\"\\nAfter Transformaing data\\n\")\n",
        "print(encoded_dataset)"
      ],
      "execution_count": 4,
      "outputs": [
        {
          "output_type": "stream",
          "name": "stdout",
          "text": [
            "   Outlook Temp Wind  Humidity\n",
            "0        R    H    F         1\n",
            "1        R    H    T         2\n",
            "2        O    H    F         1\n",
            "3        R    M    F         1\n",
            "4        S    C    F         1\n",
            "5        O    C    T         0\n",
            "6        O    C    T         1\n",
            "7        R    M    F         1\n",
            "8        O    C    F         0\n",
            "9        S    M    F         2\n",
            "10       R    C    T         2\n",
            "11       O    M    T         0\n",
            "12       O    H    F         1\n",
            "13       S    M    T         1\n",
            "\n",
            "After Transformaing data\n",
            "\n",
            "    O  R  S  C  H  M  F  T  0  1  2\n",
            "0   0  1  0  0  1  0  1  0  0  1  0\n",
            "1   0  1  0  0  1  0  0  1  0  0  1\n",
            "2   1  0  0  0  1  0  1  0  0  1  0\n",
            "3   0  1  0  0  0  1  1  0  0  1  0\n",
            "4   0  0  1  1  0  0  1  0  0  1  0\n",
            "5   1  0  0  1  0  0  0  1  1  0  0\n",
            "6   1  0  0  1  0  0  0  1  0  1  0\n",
            "7   0  1  0  0  0  1  1  0  0  1  0\n",
            "8   1  0  0  1  0  0  1  0  1  0  0\n",
            "9   0  0  1  0  0  1  1  0  0  0  1\n",
            "10  0  1  0  1  0  0  0  1  0  0  1\n",
            "11  1  0  0  0  0  1  0  1  1  0  0\n",
            "12  1  0  0  0  1  0  1  0  0  1  0\n",
            "13  0  0  1  0  0  1  0  1  0  1  0\n"
          ]
        }
      ]
    },
    {
      "cell_type": "code",
      "metadata": {
        "colab": {
          "base_uri": "https://localhost:8080/"
        },
        "id": "jBTaUbeScXE0",
        "outputId": "03c52bd6-d751-46c1-a7a3-ecaa77a8b9bc"
      },
      "source": [
        "# train test division 85% - 15%\n",
        "from sklearn.model_selection import train_test_split\n",
        "\n",
        "X_train, X_test, Y_train, Y_test = train_test_split(encoded_dataset, Y_rows, test_size = 0.15, random_state = 120)\n",
        "\n",
        "# create model\n",
        "model = MultinomialNB()\n",
        "model.fit(X_train, Y_train)\n",
        "\n",
        "# Predict Y from X_text\n",
        "Y_predicted = model.predict(X_test)\n",
        "\n",
        "print(Y_predicted)"
      ],
      "execution_count": 9,
      "outputs": [
        {
          "output_type": "stream",
          "name": "stdout",
          "text": [
            "[1 1 1]\n"
          ]
        }
      ]
    },
    {
      "cell_type": "code",
      "metadata": {
        "colab": {
          "base_uri": "https://localhost:8080/"
        },
        "id": "sO9JAZFccxMi",
        "outputId": "d2e76963-20fd-4891-e16d-7495239dcb9e"
      },
      "source": [
        "from sklearn.metrics import accuracy_score\n",
        "from sklearn.metrics import precision_score\n",
        "from sklearn.metrics import recall_score\n",
        "\n",
        "print(f\"Accuracy is :- {accuracy_score(Y_test, Y_predicted)}\")\n",
        "\n",
        "# print precision and recall\n",
        "precision = precision_score(Y_test, Y_predicted)\n",
        "recall = recall_score(Y_test, Y_predicted)\n",
        "\n",
        "\n",
        "print(f\"precision :- {precision}\")\n",
        "print(f\"recall :- {recall}\")"
      ],
      "execution_count": 10,
      "outputs": [
        {
          "output_type": "stream",
          "name": "stdout",
          "text": [
            "Accuracy is :- 0.3333333333333333\n",
            "precision :- 0.3333333333333333\n",
            "recall :- 1.0\n"
          ]
        }
      ]
    },
    {
      "cell_type": "code",
      "metadata": {
        "colab": {
          "base_uri": "https://localhost:8080/"
        },
        "id": "iyxzWZ__dTIa",
        "outputId": "71bef247-eb5f-46c0-c183-07b552cfc527"
      },
      "source": [
        "#Outlook is ’Rainy’, Temperature is ’Mild’, Humidity =’Normal’ , and Wind = ’False’\n",
        "\n",
        "print('final prediction ',model.predict([[0, 1, 0, 0, 0, 1, 1, 0, 0, 1, 0]]))\n",
        "\n",
        "#Outlook is ’Sunny’, Temeprature is ’Cool’, Humidity =’High’, and Wind = ’True’\n",
        "\n",
        "print('final prediction ',model.predict([[0,0,1,1,0,0,0,1,0,0,1]]))\n"
      ],
      "execution_count": 12,
      "outputs": [
        {
          "output_type": "stream",
          "name": "stdout",
          "text": [
            "final prediction  [1]\n",
            "final prediction  [1]\n"
          ]
        }
      ]
    }
  ]
}