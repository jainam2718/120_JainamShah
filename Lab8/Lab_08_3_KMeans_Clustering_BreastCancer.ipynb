{
  "nbformat": 4,
  "nbformat_minor": 0,
  "metadata": {
    "colab": {
      "name": "Lab_08_3_KMeans_Clustering_BreastCancer.ipynb",
      "provenance": [],
      "collapsed_sections": [],
      "authorship_tag": "ABX9TyONz820erqTJlrvCdVleIZM",
      "include_colab_link": true
    },
    "kernelspec": {
      "name": "python3",
      "display_name": "Python 3"
    },
    "language_info": {
      "name": "python"
    }
  },
  "cells": [
    {
      "cell_type": "markdown",
      "metadata": {
        "id": "view-in-github",
        "colab_type": "text"
      },
      "source": [
        "<a href=\"https://colab.research.google.com/github/jainam2718/120_JainamShah/blob/master/Lab8/Lab_08_3_KMeans_Clustering_BreastCancer.ipynb\" target=\"_parent\"><img src=\"https://colab.research.google.com/assets/colab-badge.svg\" alt=\"Open In Colab\"/></a>"
      ]
    },
    {
      "cell_type": "markdown",
      "metadata": {
        "id": "vO3sKbh6xkov"
      },
      "source": [
        "Write a python program to perform K-Means clustering on Breast Cancer Data"
      ]
    },
    {
      "cell_type": "code",
      "metadata": {
        "colab": {
          "base_uri": "https://localhost:8080/"
        },
        "id": "xNuVWwnexoRO",
        "outputId": "0a79e49f-d7d4-41da-8332-0bf49ce96398"
      },
      "source": [
        "import numpy as np \n",
        "import pandas as pd \n",
        "from sklearn import datasets\n",
        "from sklearn.cluster import KMeans\n",
        "from sklearn.metrics import accuracy_score, confusion_matrix\n",
        "import matplotlib.pyplot as plt\n",
        "\n",
        "\n",
        "\n",
        "dataset=datasets.load_breast_cancer()\n",
        "print(dataset.data.shape)\n",
        "print(dataset.target.shape)\n",
        "print(dataset.feature_names)\n",
        "print(dataset.target_names)\n",
        "\n"
      ],
      "execution_count": 1,
      "outputs": [
        {
          "output_type": "stream",
          "name": "stdout",
          "text": [
            "(569, 30)\n",
            "(569,)\n",
            "['mean radius' 'mean texture' 'mean perimeter' 'mean area'\n",
            " 'mean smoothness' 'mean compactness' 'mean concavity'\n",
            " 'mean concave points' 'mean symmetry' 'mean fractal dimension'\n",
            " 'radius error' 'texture error' 'perimeter error' 'area error'\n",
            " 'smoothness error' 'compactness error' 'concavity error'\n",
            " 'concave points error' 'symmetry error' 'fractal dimension error'\n",
            " 'worst radius' 'worst texture' 'worst perimeter' 'worst area'\n",
            " 'worst smoothness' 'worst compactness' 'worst concavity'\n",
            " 'worst concave points' 'worst symmetry' 'worst fractal dimension']\n",
            "['malignant' 'benign']\n"
          ]
        }
      ]
    },
    {
      "cell_type": "code",
      "metadata": {
        "colab": {
          "base_uri": "https://localhost:8080/",
          "height": 279
        },
        "id": "6t7V49nrxtBF",
        "outputId": "4d4b730e-1a0d-44d6-94dd-2949a31c30f2"
      },
      "source": [
        "# 0 for benign and 1 for malignant\n",
        "\n",
        "plt.scatter(dataset.data[:, 0], dataset.target, c='orange', marker='*')\n",
        "plt.xlabel('Features')\n",
        "plt.ylabel('Cancer Type')\n",
        "plt.show()"
      ],
      "execution_count": 2,
      "outputs": [
        {
          "output_type": "display_data",
          "data": {
            "image/png": "[encoded data removed]",
            "text/plain": [
              "<Figure size 432x288 with 1 Axes>"
            ]
          },
          "metadata": {
            "needs_background": "light"
          }
        }
      ]
    },
    {
      "cell_type": "code",
      "metadata": {
        "colab": {
          "base_uri": "https://localhost:8080/"
        },
        "id": "-ZWiYFcdx2_m",
        "outputId": "4810a909-eafe-49c3-d87d-5bc65b166c4b"
      },
      "source": [
        "kmeans = KMeans(n_clusters=3, random_state=120)\n",
        "prediction = kmeans.fit_predict(dataset.data)\n",
        "print(prediction)"
      ],
      "execution_count": 4,
      "outputs": [
        {
          "output_type": "stream",
          "name": "stdout",
          "text": [
            "[1 1 1 0 1 0 1 0 0 0 1 1 1 0 0 0 0 1 2 0 0 0 0 2 1 1 0 1 1 1 1 0 1 1 1 1 0\n",
            " 0 0 0 0 0 1 0 0 1 0 0 0 0 0 0 0 1 0 0 1 0 0 0 0 0 0 0 0 0 0 0 0 0 1 0 1 0\n",
            " 0 1 0 1 1 0 0 0 2 1 0 1 0 1 0 0 0 0 0 0 0 1 0 0 0 0 0 0 0 0 0 0 0 0 2 0 0\n",
            " 0 0 0 0 0 0 0 1 1 0 1 2 0 0 0 0 1 0 1 0 1 1 0 1 0 0 0 0 0 0 1 0 0 0 0 0 0\n",
            " 0 0 0 0 0 0 0 0 1 1 0 0 0 1 1 0 2 0 0 1 1 0 0 0 0 0 0 0 0 0 0 0 2 1 1 0 0\n",
            " 0 1 0 0 0 0 0 0 0 0 0 0 1 1 0 0 1 1 0 0 0 0 1 0 0 1 0 2 1 0 0 0 0 1 2 0 0\n",
            " 0 0 0 0 0 0 0 0 1 0 0 1 0 0 2 1 0 1 0 0 0 0 1 0 0 0 0 0 1 0 1 1 1 0 1 0 1\n",
            " 0 1 1 1 0 1 2 0 0 0 0 0 0 2 0 1 0 0 1 0 0 1 0 1 0 0 0 0 0 0 0 0 0 0 0 0 0\n",
            " 0 0 0 0 1 0 1 0 0 0 0 0 0 0 0 0 0 0 0 0 0 1 0 0 0 1 0 1 0 0 0 0 1 0 0 0 0\n",
            " 0 0 1 0 1 0 2 0 0 0 1 0 0 0 0 0 0 0 0 2 0 0 0 0 0 0 0 0 0 0 0 0 1 1 0 2 2\n",
            " 1 0 1 1 0 0 0 0 0 0 0 0 0 0 0 0 0 0 0 1 0 0 1 1 0 0 0 0 0 0 1 0 0 0 0 0 0\n",
            " 0 1 0 0 0 0 0 0 0 0 1 0 0 0 0 0 0 0 0 0 0 0 0 0 0 1 1 0 0 0 0 0 0 0 1 0 0\n",
            " 1 0 1 0 0 1 0 1 0 0 0 0 0 0 0 0 1 2 0 0 0 0 0 0 1 0 0 0 0 0 0 0 0 0 0 0 0\n",
            " 0 0 0 0 0 0 1 0 1 0 1 1 0 0 0 0 0 1 1 0 0 0 2 0 0 0 0 0 0 0 0 0 0 0 0 1 1\n",
            " 0 0 0 2 0 0 0 0 0 0 0 0 0 0 0 1 0 1 0 0 0 0 0 0 0 0 0 0 0 0 0 0 0 0 0 0 0\n",
            " 0 0 0 0 0 0 0 0 1 1 1 1 1 0]\n"
          ]
        }
      ]
    },
    {
      "cell_type": "code",
      "metadata": {
        "colab": {
          "base_uri": "https://localhost:8080/"
        },
        "id": "udrUth4Dx8mi",
        "outputId": "a1f6652e-6726-4e0f-97e9-bb92d662ed61"
      },
      "source": [
        "kmeans.cluster_centers_.shape\n",
        "print(kmeans.cluster_centers_)"
      ],
      "execution_count": 5,
      "outputs": [
        {
          "output_type": "stream",
          "name": "stdout",
          "text": [
            "[[1.24751725e+01 1.84901166e+01 8.05764103e+01 4.88859207e+02\n",
            "  9.49148252e-02 9.07750117e-02 6.15064119e-02 3.29390303e-02\n",
            "  1.77986946e-01 6.35734266e-02 3.01556410e-01 1.21532704e+00\n",
            "  2.13489441e+00 2.33540979e+01 7.15913287e-03 2.33434848e-02\n",
            "  2.84384956e-02 1.05576713e-02 2.06707646e-02 3.74588648e-03\n",
            "  1.39398578e+01 2.45990443e+01 9.12271096e+01 6.09272261e+02\n",
            "  1.30029254e-01 2.22372145e-01 2.16939503e-01 9.04745711e-02\n",
            "  2.82924942e-01 8.33942191e-02]\n",
            " [1.85285124e+01 2.15790909e+01 1.22283471e+02 1.07481240e+03\n",
            "  1.00261240e-01 1.41826612e-01 1.61977355e-01 9.20814050e-02\n",
            "  1.91676860e-01 6.06204959e-02 6.49142149e-01 1.21641983e+00\n",
            "  4.56371901e+00 7.68210744e+01 6.61174380e-03 3.13276529e-02\n",
            "  4.16239669e-02 1.55374463e-02 2.01668595e-02 3.96714050e-03\n",
            "  2.23823967e+01 2.87747107e+01 1.49064463e+02 1.54647107e+03\n",
            "  1.39227107e-01 3.46117851e-01 4.31357851e-01 1.82432645e-01\n",
            "  3.15462810e-01 8.62268595e-02]\n",
            " [2.34015789e+01 2.27621053e+01 1.56147368e+02 1.72942105e+03\n",
            "  1.04154211e-01 1.71922105e-01 2.39015789e-01 1.34857895e-01\n",
            "  1.85884211e-01 5.91452632e-02 1.19100000e+00 1.25407895e+00\n",
            "  8.56357895e+00 1.91449474e+02 7.10673684e-03 3.64242105e-02\n",
            "  4.79426316e-02 1.59331579e-02 2.00326316e-02 3.80478947e-03\n",
            "  2.99315789e+01 3.02952632e+01 2.03073684e+02 2.76584211e+03\n",
            "  1.41510526e-01 3.89415789e-01 5.05994737e-01 2.27526316e-01\n",
            "  2.89852632e-01 8.18736842e-02]]\n"
          ]
        }
      ]
    },
    {
      "cell_type": "code",
      "metadata": {
        "colab": {
          "base_uri": "https://localhost:8080/",
          "height": 281
        },
        "id": "t5UjaRB1yACj",
        "outputId": "4692cde8-bf08-4750-d7f2-0b3a9d5e34f0"
      },
      "source": [
        "plt.scatter(dataset.data[:, 0], dataset.target, c='orange', marker='*')\n",
        "plt.scatter(kmeans.cluster_centers_[:, 0], kmeans.cluster_centers_[:, 1], c='green', marker='+')\n",
        "plt.title('Data points and cluster centroids')\n",
        "plt.show()"
      ],
      "execution_count": 6,
      "outputs": [
        {
          "output_type": "display_data",
          "data": {
            "image/png": "[encoded data removed]",
            "text/plain": [
              "<Figure size 432x288 with 1 Axes>"
            ]
          },
          "metadata": {
            "needs_background": "light"
          }
        }
      ]
    },
    {
      "cell_type": "code",
      "metadata": {
        "id": "3uRh3653yA-J"
      },
      "source": [
        "from scipy.stats import mode\n",
        "labels = np.zeros_like(prediction)\n",
        "for i in range(10):\n",
        "  mask = (prediction == i)\n",
        "  labels[mask] = mode(dataset.target[mask])[0]"
      ],
      "execution_count": 7,
      "outputs": []
    },
    {
      "cell_type": "code",
      "metadata": {
        "colab": {
          "base_uri": "https://localhost:8080/",
          "height": 298
        },
        "id": "zh6x9oYQyFen",
        "outputId": "374405d1-cd39-4b69-857e-6773fe5df34a"
      },
      "source": [
        "import seaborn as sns\n",
        "\n",
        "mat = confusion_matrix(dataset.target, labels)\n",
        "ax = sns.heatmap(mat.T, square=True, annot=True, cbar=False, xticklabels=dataset.target_names, yticklabels=dataset.target_names)\n",
        "plt.xlabel('true label')\n",
        "plt.ylabel('predicted label')"
      ],
      "execution_count": 8,
      "outputs": [
        {
          "output_type": "execute_result",
          "data": {
            "text/plain": [
              "Text(91.68, 0.5, 'predicted label')"
            ]
          },
          "metadata": {},
          "execution_count": 8
        },
        {
          "output_type": "display_data",
          "data": {
            "image/png": "[encoded data removed]",
            "text/plain": [
              "<Figure size 432x288 with 1 Axes>"
            ]
          },
          "metadata": {
            "needs_background": "light"
          }
        }
      ]
    },
    {
      "cell_type": "code",
      "metadata": {
        "colab": {
          "base_uri": "https://localhost:8080/"
        },
        "id": "VCARLZKkyH38",
        "outputId": "08236071-1d40-43bc-8ebf-fb1487966fdd"
      },
      "source": [
        "accuracy_score(dataset.target, labels)"
      ],
      "execution_count": 9,
      "outputs": [
        {
          "output_type": "execute_result",
          "data": {
            "text/plain": [
              "0.8664323374340949"
            ]
          },
          "metadata": {},
          "execution_count": 9
        }
      ]
    }
  ]
}